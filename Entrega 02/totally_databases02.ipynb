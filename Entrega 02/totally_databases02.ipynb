{
  "cells": [
    {
      "cell_type": "code",
      "execution_count": null,
      "metadata": {
        "id": "FlQEMw3kwzex"
      },
      "outputs": [],
      "source": [
        "import pandas as pd\n",
        "import matplotlib.pyplot as plt\n",
        "import seaborn as sns"
      ]
    },
    {
      "cell_type": "markdown",
      "metadata": {
        "id": "fFplOoqTOtO5"
      },
      "source": [
        "Entrega 2: Adriana Martínez y Benjamin Chavez.\n",
        "\n",
        "Nuestro trabajo aborda el declive del Partido de la Gente, el cual tuvo su mejor momento en el 2021, convertiendose en el partido con mayo cantidad de militantes, a solo dos años de su creación.\n",
        "\n",
        "Para los datos, utilice la cantidad de representantes en las elecciones entre el 2021 al 2023, el resultado de las elecciones presidenciales en primera vuelta el 2021, como la cantidad de militantes del partido durante el periodo 2021-2024.\n",
        "\n",
        "Para la limpieza de datos, importe la base de datos de Google Drive, luego imprimi la base de datos para verificar si cargo. Luego comence a hacer los filtros de limpieza.\n",
        "\n",
        "Con estos datos se espera a responder a preguntas como:\n",
        "1. ¿Son más hombres o mujeres los militantes del partido de la Gente?\n",
        "2. ¿Influye la zona en que viven para que sean militantes?\n",
        "3. Tras las polémicas de Parisi, fundador del partido, ¿los militantes siguen igual?"
      ]
    },
    {
      "cell_type": "code",
      "execution_count": null,
      "metadata": {
        "id": "CmZm9qFBxsfe"
      },
      "outputs": [],
      "source": [
        "from google.colab import drive\n",
        "drive.mount('/gdrive')\n",
        "\n",
        "ruta = \"/gdrive/MyDrive/BASE DE DATOS Adriana/Base de datos Adriana Representantes PDG - Hoja 1.csv\"\n",
        "ruta2= \"/gdrive/MyDrive/BASE DE DATOS Adriana/Base datos 2 Adriana Elecciones presidenciales 2021 - Hoja 1.csv\"\n",
        "ruta3= \"/gdrive/MyDrive/BASE DE DATOS Adriana/Base de datos 3 Adriana Afiliados al PDG - Hoja 1.csv\"\n",
        "data = pd.read_csv(ruta)\n",
        "data2 = pd.read_csv(ruta2)\n",
        "data3 = pd.read_csv(ruta3)\n"
      ]
    },
    {
      "cell_type": "code",
      "execution_count": null,
      "metadata": {
        "colab": {
          "base_uri": "https://localhost:8080/"
        },
        "id": "EQ87GBHwzzls",
        "outputId": "315aaabd-dd78-45c6-823e-16be1c6c21d8"
      },
      "outputs": [
        {
          "name": "stdout",
          "output_type": "stream",
          "text": [
            "   Años                Elección  Votos   Escaños conseguidos \n",
            "0  2021               Senadores  378378                     0\n",
            "1  2021               Diputados  534881                     6\n",
            "2  2021  Consejeros regionales   474132                    22\n"
          ]
        }
      ],
      "source": [
        "print(data.head())\n",
        "print(data2.head())\n",
        "print(data3.head())"
      ]
    },
    {
      "cell_type": "code",
      "execution_count": null,
      "metadata": {
        "colab": {
          "base_uri": "https://localhost:8080/"
        },
        "id": "9aTrSv4s2bSd",
        "outputId": "47a54254-fee6-4682-d43d-359fd4e66d4a"
      },
      "outputs": [
        {
          "name": "stdout",
          "output_type": "stream",
          "text": [
            "<class 'pandas.core.frame.DataFrame'>\n",
            "Index: 3 entries, 0 to 2\n",
            "Data columns (total 4 columns):\n",
            " #   Column                Non-Null Count  Dtype \n",
            "---  ------                --------------  ----- \n",
            " 0   Años                  3 non-null      int64 \n",
            " 1   Elección              3 non-null      object\n",
            " 2   Votos                 3 non-null      int64 \n",
            " 3   Escaños conseguidos   3 non-null      int64 \n",
            "dtypes: int64(3), object(1)\n",
            "memory usage: 120.0+ bytes\n"
          ]
        }
      ],
      "source": [
        "# Eliminar Filas Con Datos Faltantes\n",
        "data.dropna(inplace=True)\n",
        "data2.dropna(inplace=True)\n",
        "data3.dropna(inplace=True)\n",
        "data.info()\n",
        "data2.info()\n",
        "data3.info()"
      ]
    },
    {
      "cell_type": "code",
      "execution_count": null,
      "metadata": {
        "colab": {
          "base_uri": "https://localhost:8080/"
        },
        "id": "HhCGRyFm3dkk",
        "outputId": "4b5af498-0277-4973-9064-17a9a5d6a244"
      },
      "outputs": [
        {
          "name": "stdout",
          "output_type": "stream",
          "text": [
            "Cantidad total de filas:3\n",
            "Cantidad total de filas eliminando repetidas:3\n"
          ]
        }
      ],
      "source": [
        "# Eliminar Filas repetidas\n",
        "data.drop_duplicates(inplace=True)\n",
        "data2.drop_duplicates(inplace=True)\n",
        "data3.drop_duplicates(inplace=True)"
      ]
    },
    {
      "cell_type": "code",
      "execution_count": null,
      "metadata": {
        "id": "NQpX2Q_j8mON"
      },
      "outputs": [],
      "source": [
        "#Eliminar Datos 2025\n",
        "data = data[data['Años']<=2024]\n",
        "data3 = data3[data['Años']<=2024]"
      ]
    },
    {
      "cell_type": "code",
      "execution_count": null,
      "metadata": {
        "id": "9-sIqBiNLmVt"
      },
      "outputs": [],
      "source": []
    },
    {
      "cell_type": "code",
      "execution_count": null,
      "metadata": {
        "colab": {
          "base_uri": "https://localhost:8080/"
        },
        "id": "IsuPi5scM2Jg",
        "outputId": "974b28fc-748d-4732-9251-49a44f52e4af"
      },
      "outputs": [
        {
          "name": "stdout",
          "output_type": "stream",
          "text": [
            "Archivo CSV creado exitosamente.\n"
          ]
        }
      ],
      "source": [
        "import csv\n",
        "\n",
        "# Datos proporcionados\n",
        "data = [\n",
        "    [\"Región\", \"Femenino\", \"Masculino\", \"Total general\"],\n",
        "    [\"Arica\", 470, 849, 1319],\n",
        "    [\"Tarapacá\", 528, 1016, 1544],\n",
        "    [\"Antofagasta\", 921, 1826, 2747],\n",
        "    [\"Atacama\", 375, 705, 1080],\n",
        "    [\"Coquimbo\", 688, 1400, 2088],\n",
        "    [\"Valparaiso\", 1367, 2850, 4217],\n",
        "    [\"Metropolitana\", 3230, 7371, 10601],\n",
        "    [\"Libertador Bdo. O´higgins\", 643, 1351, 1994],\n",
        "    [\"Maule\", 693, 1428, 2121],\n",
        "    [\"Ñuble\", 330, 696, 1026],\n",
        "    [\"Biobio\", 1661, 3147, 4808],\n",
        "    [\"Araucania\", 656, 1330, 1986],\n",
        "    [\"Rios\", 344, 649, 993],\n",
        "    [\"Lagos\", 867, 1762, 2629],\n",
        "    [\"Aisen del Gral. Carlos Ibañez\", 272, 415, 687],\n",
        "    [\"Magallanes y Antartica\", 290, 535, 825],\n",
        "    [\"Internacional\", 56, 133, 189],\n",
        "    [\"Total General\", 13391, 27463, 40854]\n",
        "]\n",
        "\n",
        "# Escribir los datos en un archivo CSV\n",
        "with open('afiliados_pdg_por_sexo_y_region_2024.csv', 'w', newline='') as csvfile:\n",
        "    writer = csv.writer(csvfile)\n",
        "    writer.writerows(data)\n",
        "\n",
        "print(\"Archivo CSV creado exitosamente.\")"
      ]
    },
    {
      "cell_type": "code",
      "execution_count": null,
      "metadata": {
        "colab": {
          "base_uri": "https://localhost:8080/"
        },
        "id": "DLdKbDluNtJg",
        "outputId": "fadeaa43-0cc3-415e-92c8-ac5565d472c2"
      },
      "outputs": [
        {
          "name": "stdout",
          "output_type": "stream",
          "text": [
            "                           Región  Femenino  Masculino  Total general\n",
            "0                           Arica       470        849           1319\n",
            "1                        Tarapacá       528       1016           1544\n",
            "2                     Antofagasta       921       1826           2747\n",
            "3                         Atacama       375        705           1080\n",
            "4                        Coquimbo       688       1400           2088\n",
            "5                      Valparaiso      1367       2850           4217\n",
            "6                   Metropolitana      3230       7371          10601\n",
            "7       Libertador Bdo. O´higgins       643       1351           1994\n",
            "8                           Maule       693       1428           2121\n",
            "9                           Ñuble       330        696           1026\n",
            "10                         Biobio      1661       3147           4808\n",
            "11                      Araucania       656       1330           1986\n",
            "12                           Rios       344        649            993\n",
            "13                          Lagos       867       1762           2629\n",
            "14  Aisen del Gral. Carlos Ibañez       272        415            687\n",
            "15         Magallanes y Antartica       290        535            825\n",
            "16                  Internacional        56        133            189\n",
            "17                  Total General     13391      27463          40854\n"
          ]
        }
      ],
      "source": [
        "import pandas as pd\n",
        "\n",
        "# Leer el archivo CSV\n",
        "df = pd.read_csv('afiliados_pdg_por_sexo_y_region_2024.csv')\n",
        "\n",
        "# Visualizar la tabla de datos\n",
        "print(df)"
      ]
    },
    {
      "cell_type": "code",
      "execution_count": null,
      "metadata": {
        "colab": {
          "base_uri": "https://localhost:8080/"
        },
        "id": "FURKBynaNzJw",
        "outputId": "19a0b5e3-d8cf-411f-8fb5-d6b9c858b307"
      },
      "outputs": [
        {
          "name": "stdout",
          "output_type": "stream",
          "text": [
            "Archivo CSV creado exitosamente.\n"
          ]
        }
      ],
      "source": [
        "import csv\n",
        "\n",
        "# Datos proporcionados\n",
        "data = [\n",
        "    [\"Región\", \"Femenino\", \"Masculino\", \"Total general\"],\n",
        "    [\"Arica\", 5890, 5488, 11378],\n",
        "    [\"Tarapacá\", 6934, 6612, 13546],\n",
        "    [\"Antofagasta\", 8332, 8857, 17189],\n",
        "    [\"Atacama\", 6365, 6409, 12774],\n",
        "    [\"Coquimbo\", 9794, 10069, 19863],\n",
        "    [\"Valparaíso\", 21352, 23124, 44476],\n",
        "    [\"Metropolitana\", 82175, 86460, 168635],\n",
        "    [\"Libertador Bdo. O'higgins\", 12035, 13115, 25150],\n",
        "    [\"Maule\", 13700, 14817, 28517],\n",
        "    [\"Ñuble\", 6158, 6446, 12604],\n",
        "    [\"Biobio\", 18990, 20625, 39615],\n",
        "    [\"Araucania\", 11313, 12180, 23493],\n",
        "    [\"Rios\", 5010, 5810, 10820],\n",
        "    [\"Lagos\", 10453, 12226, 22679],\n",
        "    [\"Aisen del Gral. Carlos Ibañez\", 3414, 3471, 6885],\n",
        "    [\"Magallanes y Antartica\", 3202, 3701, 6903],\n",
        "    [\"Internacional\", 1544, 2146, 3690],\n",
        "    [\"Total General\", 226661, 241556, 468217]\n",
        "]\n",
        "\n",
        "# Escribir los datos en un archivo CSV\n",
        "with open('total_afiliados_por_partido_por_sexo_y_region_2024.csv', 'w', newline='') as csvfile:\n",
        "    writer = csv.writer(csvfile)\n",
        "    writer.writerows(data)\n",
        "\n",
        "print(\"Archivo CSV creado exitosamente.\")"
      ]
    },
    {
      "cell_type": "code",
      "execution_count": null,
      "metadata": {
        "colab": {
          "base_uri": "https://localhost:8080/"
        },
        "id": "ww5IkmTHORIB",
        "outputId": "25dd2b84-f5dc-41bc-8be6-2d1b7a859918"
      },
      "outputs": [
        {
          "name": "stdout",
          "output_type": "stream",
          "text": [
            "                           Región  Femenino  Masculino  Total general\n",
            "0                           Arica      5890       5488          11378\n",
            "1                        Tarapacá      6934       6612          13546\n",
            "2                     Antofagasta      8332       8857          17189\n",
            "3                         Atacama      6365       6409          12774\n",
            "4                        Coquimbo      9794      10069          19863\n",
            "5                      Valparaíso     21352      23124          44476\n",
            "6                   Metropolitana     82175      86460         168635\n",
            "7       Libertador Bdo. O'higgins     12035      13115          25150\n",
            "8                           Maule     13700      14817          28517\n",
            "9                           Ñuble      6158       6446          12604\n",
            "10                         Biobio     18990      20625          39615\n",
            "11                      Araucania     11313      12180          23493\n",
            "12                           Rios      5010       5810          10820\n",
            "13                          Lagos     10453      12226          22679\n",
            "14  Aisen del Gral. Carlos Ibañez      3414       3471           6885\n",
            "15         Magallanes y Antartica      3202       3701           6903\n",
            "16                  Internacional      1544       2146           3690\n",
            "17                  Total General    226661     241556         468217\n"
          ]
        }
      ],
      "source": [
        "import pandas as pd\n",
        "\n",
        "# Leer el archivo CSV\n",
        "df = pd.read_csv('total_afiliados_por_partido_por_sexo_y_region_2024.csv')\n",
        "\n",
        "# Visualizar la tabla de datos\n",
        "print(df)"
      ]
    },
    {
      "cell_type": "code",
      "execution_count": null,
      "metadata": {
        "colab": {
          "base_uri": "https://localhost:8080/"
        },
        "id": "kD1cwYivOZUB",
        "outputId": "bcb1c4eb-cfb9-479b-f824-d78982a8318e"
      },
      "outputs": [
        {
          "name": "stdout",
          "output_type": "stream",
          "text": [
            "Archivo CSV creado exitosamente.\n"
          ]
        }
      ],
      "source": [
        "import csv\n",
        "\n",
        "# Datos proporcionados\n",
        "data = [\n",
        "    [\"Región\", \"Femenino\", \"Masculino\", \"Total general\"],\n",
        "    [\"Arica\", \"7,98%\", \"15,47%\", \"11,59%\"],\n",
        "    [\"Tarapacá\", \"7,61%\", \"15,37%\", \"11,4%\"],\n",
        "    [\"Antofagasta\", \"11,05%\", \"20,62%\", \"15,98%\"],\n",
        "    [\"Atacama\", \"5,89%\", \"11%\", \"8,45%\"],\n",
        "    [\"Coquimbo\", \"7,02%\", \"13,9%\", \"10,51%\"],\n",
        "    [\"Valparaíso\", \"6,4%\", \"12,32%\", \"9,48%\"],\n",
        "    [\"Metropolitana\", \"3,93%\", \"8,53%\", \"6,29%\"],\n",
        "    [\"Libertador Bdo. O'higgins\", \"5,34%\", \"10,3%\", \"7,93%\"],\n",
        "    [\"Maule\", \"5,06%\", \"9,64%\", \"7,44%\"],\n",
        "    [\"Ñuble\", \"5,36%\", \"10,8%\", \"8,14%\"],\n",
        "    [\"Biobio\", \"8,75%\", \"15,26%\", \"12,14%\"],\n",
        "    [\"Araucania\", \"5,8%\", \"10,92%\", \"8,45%\"],\n",
        "    [\"Rios\", \"6,87%\", \"11,17%\", \"9,18%\"],\n",
        "    [\"Lagos\", \"8,29%\", \"14,41%\", \"11,59%\"],\n",
        "    [\"Aisen del Gral. Carlos Ibañez\", \"7,97%\", \"11,96%\", \"9,98%\"],\n",
        "    [\"Magallanes y Antartica\", \"9,06%\", \"14,46%\", \"11,95%\"],\n",
        "    [\"Internacional\", \"3,63%\", \"6,2%\", \"5,12%\"],\n",
        "    [\"Total General\", \"5,91%\", \"11,37%\", \"8,73%\"]\n",
        "]\n",
        "\n",
        "# Escribir los datos en un archivo CSV\n",
        "with open('afiliados_pdg_por_region.csv', 'w', newline='') as csvfile:\n",
        "    writer = csv.writer(csvfile)\n",
        "    writer.writerows(data)\n",
        "\n",
        "print(\"Archivo CSV creado exitosamente.\")"
      ]
    },
    {
      "cell_type": "code",
      "execution_count": 12,
      "metadata": {
        "colab": {
          "base_uri": "https://localhost:8080/"
        },
        "id": "_fwG1t2_OeGn",
        "outputId": "230e1be3-e2e0-47a9-f879-f8230555dee8"
      },
      "outputs": [
        {
          "name": "stdout",
          "output_type": "stream",
          "text": [
            "                           Región Femenino Masculino Total general\n",
            "0                           Arica    7,98%    15,47%        11,59%\n",
            "1                        Tarapacá    7,61%    15,37%         11,4%\n",
            "2                     Antofagasta   11,05%    20,62%        15,98%\n",
            "3                         Atacama    5,89%       11%         8,45%\n",
            "4                        Coquimbo    7,02%     13,9%        10,51%\n",
            "5                      Valparaíso     6,4%    12,32%         9,48%\n",
            "6                   Metropolitana    3,93%     8,53%         6,29%\n",
            "7       Libertador Bdo. O'higgins    5,34%     10,3%         7,93%\n",
            "8                           Maule    5,06%     9,64%         7,44%\n",
            "9                           Ñuble    5,36%     10,8%         8,14%\n",
            "10                         Biobio    8,75%    15,26%        12,14%\n",
            "11                      Araucania     5,8%    10,92%         8,45%\n",
            "12                           Rios    6,87%    11,17%         9,18%\n",
            "13                          Lagos    8,29%    14,41%        11,59%\n",
            "14  Aisen del Gral. Carlos Ibañez    7,97%    11,96%         9,98%\n",
            "15         Magallanes y Antartica    9,06%    14,46%        11,95%\n",
            "16                  Internacional    3,63%      6,2%         5,12%\n",
            "17                  Total General    5,91%    11,37%         8,73%\n"
          ]
        }
      ],
      "source": [
        "import pandas as pd\n",
        "\n",
        "# Leer el archivo CSV\n",
        "df = pd.read_csv('afiliados_pdg_por_region.csv')\n",
        "\n",
        "# Visualizar la tabla de datos\n",
        "print(df)"
      ]
    }
  ],
  "metadata": {
    "colab": {
      "provenance": []
    },
    "kernelspec": {
      "display_name": "Python 3",
      "name": "python3"
    },
    "language_info": {
      "name": "python"
    }
  },
  "nbformat": 4,
  "nbformat_minor": 0
}
